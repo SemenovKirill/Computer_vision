{
 "cells": [
  {
   "cell_type": "markdown",
   "metadata": {},
   "source": [
    "# Классификация на FashionMNIST"
   ]
  },
  {
   "cell_type": "code",
   "execution_count": 1,
   "metadata": {
    "ExecuteTime": {
     "end_time": "2019-11-12T16:56:53.736551Z",
     "start_time": "2019-11-12T16:56:53.697784Z"
    },
    "colab": {},
    "colab_type": "code",
    "id": "WGoorsK6mPZP"
   },
   "outputs": [],
   "source": [
    "import torch\n",
    "import numpy as np\n",
    "import torchvision as tv\n",
    "import time\n",
    "import torch.nn as nn"
   ]
  },
  {
   "cell_type": "code",
   "execution_count": 2,
   "metadata": {
    "ExecuteTime": {
     "end_time": "2019-11-12T16:56:53.930939Z",
     "start_time": "2019-11-12T16:56:53.927524Z"
    },
    "colab": {},
    "colab_type": "code",
    "id": "WIcNCt4ZmPZZ"
   },
   "outputs": [],
   "source": [
    "BATCH_SIZE=256"
   ]
  },
  {
   "cell_type": "code",
   "execution_count": 3,
   "metadata": {},
   "outputs": [
    {
     "name": "stdout",
     "output_type": "stream",
     "text": [
      "cuda:0\n"
     ]
    }
   ],
   "source": [
    "device = torch.device(\"cuda:0\" if torch.cuda.is_available() else \"cpu\")\n",
    "print(device)"
   ]
  },
  {
   "cell_type": "code",
   "execution_count": 4,
   "metadata": {
    "ExecuteTime": {
     "end_time": "2019-11-12T17:11:52.832124Z",
     "start_time": "2019-11-12T17:11:52.776322Z"
    },
    "colab": {},
    "colab_type": "code",
    "id": "Kw5Kv2i6mPZu"
   },
   "outputs": [
    {
     "data": {
      "text/plain": [
       "['T-shirt/top',\n",
       " 'Trouser',\n",
       " 'Pullover',\n",
       " 'Dress',\n",
       " 'Coat',\n",
       " 'Sandal',\n",
       " 'Shirt',\n",
       " 'Sneaker',\n",
       " 'Bag',\n",
       " 'Ankle boot']"
      ]
     },
     "execution_count": 4,
     "metadata": {},
     "output_type": "execute_result"
    }
   ],
   "source": [
    "train_dataset = tv.datasets.FashionMNIST('.', train=True, transform=tv.transforms.ToTensor(), download=True)\n",
    "test_dataset = tv.datasets.FashionMNIST('.', train=False, transform=tv.transforms.ToTensor(), download=True)\n",
    "train = torch.utils.data.DataLoader(train_dataset, batch_size=BATCH_SIZE)\n",
    "test = torch.utils.data.DataLoader(test_dataset, batch_size=BATCH_SIZE)\n",
    "train_dataset.classes"
   ]
  },
  {
   "cell_type": "code",
   "execution_count": 5,
   "metadata": {
    "ExecuteTime": {
     "end_time": "2019-11-12T16:58:37.613945Z",
     "start_time": "2019-11-12T16:58:37.608386Z"
    },
    "colab": {},
    "colab_type": "code",
    "id": "SKhbDXt_mPZ0",
    "outputId": "1f0ddd67-aa80-4da2-b6c1-45a3c7de33f3"
   },
   "outputs": [
    {
     "data": {
      "text/plain": [
       "torch.Size([1, 28, 28])"
      ]
     },
     "execution_count": 5,
     "metadata": {},
     "output_type": "execute_result"
    }
   ],
   "source": [
    "train_dataset[0][0].shape"
   ]
  },
  {
   "cell_type": "code",
   "execution_count": 6,
   "metadata": {
    "ExecuteTime": {
     "end_time": "2019-11-12T17:27:43.689461Z",
     "start_time": "2019-11-12T17:27:43.684254Z"
    },
    "colab": {},
    "colab_type": "code",
    "id": "V7qWC2EbmPZ5"
   },
   "outputs": [],
   "source": [
    "model = nn.Sequential(nn.BatchNorm2d(1),\n",
    "                      nn.ReLU(),\n",
    "                      nn.Flatten(),\n",
    "                      nn.Linear(in_features=28*28, out_features=2304),\n",
    "                      nn.BatchNorm1d(2304), nn.ReLU(),\n",
    "                      nn.Linear(in_features=2304, out_features=120),\n",
    "                      nn.BatchNorm1d(120),nn.Dropout(), nn.ReLU(),\n",
    "                      nn.Linear(in_features=120, out_features=84),\n",
    "                      nn.BatchNorm1d(84), nn.Dropout(.7), \n",
    "                      nn.Linear(in_features=84, out_features=10)\n",
    "                      )\n",
    "model = model.to(device)"
   ]
  },
  {
   "cell_type": "code",
   "execution_count": 7,
   "metadata": {
    "ExecuteTime": {
     "end_time": "2019-11-12T17:27:43.957461Z",
     "start_time": "2019-11-12T17:27:43.952900Z"
    },
    "colab": {},
    "colab_type": "code",
    "id": "fDqkL214mPZ7"
   },
   "outputs": [],
   "source": [
    "loss_f = nn.CrossEntropyLoss()\n",
    "trainer_1 = torch.optim.AdamW(model.parameters(), lr=.01)\n",
    "trainer_2 = torch.optim.SGD(model.parameters(), lr=.001)\n",
    "num_epochs = 15"
   ]
  },
  {
   "cell_type": "code",
   "execution_count": 8,
   "metadata": {},
   "outputs": [],
   "source": [
    "def training(X, y, model, dict, trainer=False):\n",
    "    X, y = X.to(device), y.to(device)\n",
    "    if trainer:\n",
    "        trainer.zero_grad()\n",
    "    predictions = model(X)\n",
    "    loss = loss_f(predictions, y)\n",
    "    loss.backward()\n",
    "    if trainer:\n",
    "        trainer.step()\n",
    "    dict = {'loss':(dict['loss']+loss.item()), \n",
    "            'tp':(dict['tp']+(predictions.argmax(dim=1) == y).sum().item()), \n",
    "            'iters':(dict['iters']+1), \n",
    "            'len':(dict['len']+len(X))}\n",
    "    return dict    "
   ]
  },
  {
   "cell_type": "code",
   "execution_count": 9,
   "metadata": {
    "scrolled": false
   },
   "outputs": [
    {
     "name": "stdout",
     "output_type": "stream",
     "text": [
      "| Epochs |  Time   | Train Adam loss | Train SGD loss | Test loss | Train Adam acc | Train SGD acc | Test acc |\n",
      "|   1    | 17.0505 |     0.6584      |     0.4846     |  0.4220   |    76.8733%    |   83.7017%    | 84.9400% |\n",
      "|   2    | 18.3635 |     0.4667      |     0.4209     |  0.3863   |    84.2917%    |   85.8450%    | 86.2900% |\n",
      "|   3    | 18.5925 |     0.4126      |     0.3755     |  0.3587   |    86.0683%    |   86.8783%    | 87.1600% |\n",
      "|   4    | 18.9740 |     0.3809      |     0.3461     |  0.3435   |    87.0617%    |   88.0617%    | 87.5500% |\n",
      "|   5    | 18.2400 |     0.3581      |     0.3345     |  0.3416   |    87.7283%    |   88.4717%    | 87.5400% |\n",
      "|   6    | 18.6515 |     0.3364      |     0.3107     |  0.3378   |    88.4717%    |   89.3617%    | 88.3100% |\n",
      "|   7    | 18.6004 |     0.3202      |     0.3029     |  0.3292   |    89.0883%    |   89.4933%    | 88.3900% |\n",
      "|   8    | 18.3830 |     0.3101      |     0.2969     |  0.3407   |    89.4150%    |   89.6967%    | 88.0500% |\n",
      "|   9    | 18.3152 |     0.2934      |     0.2748     |  0.3269   |    89.7850%    |   90.5767%    | 88.7400% |\n",
      "|   10   | 18.7158 |     0.2826      |     0.2628     |  0.3350   |    90.1350%    |   90.8933%    | 88.3400% |\n",
      "|   11   | 18.9759 |     0.2776      |     0.2609     |  0.3282   |    90.2767%    |   91.1233%    | 88.5400% |\n",
      "|   12   | 18.4178 |     0.2652      |     0.2596     |  0.3340   |    90.7350%    |   91.0450%    | 88.3100% |\n",
      "|   13   | 18.4717 |     0.2565      |     0.2362     |  0.3320   |    91.0800%    |   91.6667%    | 88.8700% |\n",
      "|   14   | 18.6198 |     0.2499      |     0.2442     |  0.3411   |    91.2767%    |   91.4433%    | 88.7000% |\n",
      "|   15   | 18.7337 |     0.2427      |     0.2282     |  0.3290   |    91.5100%    |   92.0367%    | 89.2300% |\n"
     ]
    }
   ],
   "source": [
    "print('|{: ^8}|{: ^9}|{: ^17}|{: ^16}|{: ^11}|{: ^16}|{: ^15}|{: ^10}|'\\\n",
    "      .format('Epochs','Time','Train Adam loss','Train SGD loss',\n",
    "              'Test loss','Train Adam acc','Train SGD acc','Test acc'))\n",
    "for epoch in range(num_epochs):\n",
    "    start=time.time()\n",
    "    model.train()\n",
    "    first_train = {'loss':0, 'tp':0, 'iters':0, 'len':0}\n",
    "    for X,y in train:\n",
    "        first_train = training(X, y, model, first_train, trainer_1)\n",
    "        \n",
    "    second_train = {'loss':0, 'tp':0, 'iters':0, 'len':0}\n",
    "    for X,y in train:\n",
    "        second_train = training(X, y, model, second_train, trainer_2)\n",
    "    \n",
    "    model.eval()\n",
    "    last_train = {'loss':0, 'tp':0, 'iters':0, 'len':0}\n",
    "    for X,y in test:\n",
    "        last_train = training(X, y, model, last_train, )\n",
    "        \n",
    "    print('|{: ^8}|{: ^9.4f}|{: ^17.4f}|{: ^16.4f}|{: ^11.4f}|{: ^16.4%}|{: ^15.4%}|{: ^10.4%}|'\\\n",
    "          .format(epoch+1, time.time()-start,  \n",
    "                  first_train['loss']/first_train['iters'],\n",
    "                  second_train['loss']/second_train['iters'], \n",
    "                  last_train['loss']/last_train['iters'],\n",
    "                  first_train['tp']/first_train['len'],\n",
    "                  second_train['tp']/second_train['len'],\n",
    "                  last_train['tp']/last_train['len']))"
   ]
  }
 ],
 "metadata": {
  "colab": {
   "collapsed_sections": [],
   "name": "Лекция 3.ipynb",
   "provenance": []
  },
  "kernelspec": {
   "display_name": "Python 3",
   "language": "python",
   "name": "python3"
  },
  "language_info": {
   "codemirror_mode": {
    "name": "ipython",
    "version": 3
   },
   "file_extension": ".py",
   "mimetype": "text/x-python",
   "name": "python",
   "nbconvert_exporter": "python",
   "pygments_lexer": "ipython3",
   "version": "3.8.8"
  },
  "toc": {
   "base_numbering": 1,
   "nav_menu": {},
   "number_sections": true,
   "sideBar": true,
   "skip_h1_title": true,
   "title_cell": "Содержание",
   "title_sidebar": "Содержание",
   "toc_cell": false,
   "toc_position": {
    "height": "calc(100% - 180px)",
    "left": "10px",
    "top": "150px",
    "width": "304px"
   },
   "toc_section_display": true,
   "toc_window_display": false
  }
 },
 "nbformat": 4,
 "nbformat_minor": 1
}
