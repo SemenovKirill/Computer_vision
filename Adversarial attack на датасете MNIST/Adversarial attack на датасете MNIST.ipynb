{
 "cells": [
  {
   "attachments": {},
   "cell_type": "markdown",
   "id": "dda508a5",
   "metadata": {},
   "source": [
    "# Adversarial attack на датасете MNIST"
   ]
  },
  {
   "cell_type": "code",
   "execution_count": 1,
   "id": "8d42215a",
   "metadata": {},
   "outputs": [],
   "source": [
    "import time\n",
    "import numpy as np\n",
    "import warnings\n",
    "from PIL import Image\n",
    "from matplotlib import pyplot as plt\n",
    "\n",
    "import torch\n",
    "import torch.nn as nn\n",
    "import torchvision as tv\n",
    "import torchvision.models as models\n",
    "import torch.optim as O\n",
    "from torch.autograd import Variable"
   ]
  },
  {
   "cell_type": "code",
   "execution_count": 2,
   "id": "3f5e1b55",
   "metadata": {},
   "outputs": [
    {
     "name": "stdout",
     "output_type": "stream",
     "text": [
      "cuda:0\n"
     ]
    }
   ],
   "source": [
    "warnings.filterwarnings('ignore')\n",
    "device = torch.device(\"cuda:0\" if torch.cuda.is_available() else \"cpu\")\n",
    "print(device)"
   ]
  },
  {
   "cell_type": "code",
   "execution_count": 3,
   "id": "920da9ee",
   "metadata": {},
   "outputs": [],
   "source": [
    "# Функция для просмотра нескольких случайных изображений из датасета\n",
    "def peep(data, H, W):\n",
    "    fig = plt.figure(figsize=(16,3*H))\n",
    "    for i in range(H*W):\n",
    "        fig.add_subplot(H, W, i+1)\n",
    "        plt.imshow(data[int(np.random.choice(len(data), 1))][0].permute(1,2,0), cmap='Greys')\n",
    "        plt.xticks([])\n",
    "        plt.yticks([])\n",
    "        plt.tight_layout()\n",
    "    plt.show()"
   ]
  },
  {
   "cell_type": "code",
   "execution_count": 4,
   "id": "d1e23a8d",
   "metadata": {},
   "outputs": [],
   "source": [
    "# Универсальное обучение модели с выводом метрик\n",
    "class NetPipeline:\n",
    "    def __init__(self, train_data, test_data, model, num_epochs, batch_size,  \n",
    "                 first_opt=O.Adam, lr1=3e-4, criterion=nn.CrossEntropyLoss(), second_opt=False, lr2=False):\n",
    "        self.train_data = train_data\n",
    "        self.test_data = test_data\n",
    "        self.model = model\n",
    "        self.num_epochs = num_epochs\n",
    "        self.batch_size = batch_size\n",
    "        self.criterion = criterion\n",
    "        self.first_opt = first_opt\n",
    "        self.lr1 = lr1\n",
    "        self.second_opt = second_opt\n",
    "        self.lr2 = lr2\n",
    "        self.train_loader = torch.utils.data.DataLoader(dataset=self.train_data, \n",
    "                                                        batch_size=self.batch_size, \n",
    "                                                        shuffle=False)\n",
    "        self.test_loader = torch.utils.data.DataLoader(dataset=self.train_data, \n",
    "                                                       batch_size=self.batch_size, \n",
    "                                                       shuffle=False)\n",
    "        \n",
    "        \n",
    "    def train_steps(self):\n",
    "        self.model.to(device)\n",
    "        trainer_1 = self.first_opt((self.model).parameters(), lr=self.lr1)\n",
    "        if self.second_opt: \n",
    "            trainer_2 = self.second_opt(self.model.parameters(), lr=self.lr2)\n",
    "        for epoch in range(self.num_epochs):\n",
    "            start = time.time()\n",
    "            self.first_train = self._training(self.train_loader, trainer=trainer_1)\n",
    "            self.second_train = self._training(self.train_loader, trainer=trainer_2) if self.second_opt else False \n",
    "            self.last_train = self._training(self.test_loader, mode='eval')\n",
    "            time_spent = time.time() - start\n",
    "            self._printer(epoch, time_spent)\n",
    "        self.model.to('cpu')\n",
    "        torch.cuda.empty_cache()\n",
    "\n",
    "    \n",
    "    def _training(self, data, trainer=False, mode='train'):\n",
    "        self.model.eval() if mode == 'eval' else self.model.train()\n",
    "        dict = {'loss':0, 'tp':0, 'iters':0, 'len':0}\n",
    "        for X, y in data:\n",
    "            X, y = X.to(device), y.to(device)\n",
    "            if mode == 'train': \n",
    "                trainer.zero_grad()\n",
    "            predictions = self.model(X)\n",
    "            loss = self.criterion(predictions, y)\n",
    "            loss.backward()\n",
    "            if mode == 'train': \n",
    "                trainer.step()\n",
    "            dict = {'loss':(dict['loss']+loss.item()), \n",
    "                    'tp':(dict['tp']+(predictions.argmax(dim=1) == y).sum().item()), \n",
    "                    'iters':(dict['iters']+1), \n",
    "                    'len':(dict['len']+len(X))}\n",
    "            del X, y, predictions, loss\n",
    "        return {'loss':(dict['loss']/dict['iters']), 'acc':(dict['tp']/dict['len'])} \n",
    "            \n",
    "    \n",
    "    def _printer (self, epoch, time_spent):\n",
    "        name_1 = self.first_opt.__name__\n",
    "        name_2 = self.second_opt.__name__ if self.second_opt else False\n",
    "        if not epoch:\n",
    "            #print(self.model.__class__.__name__)\n",
    "            print('|{: ^8}|{: ^9}|'.format('Epochs','Time') + \\\n",
    "                  '{: ^17}|{: ^16}|'.format('Train '+name_1+' loss', 'Train '+name_1+' acc') + \\\n",
    "                  ('{: ^17}|{: ^16}|'.format('Train '+str(name_2)+' loss', \n",
    "                                             'Train '+str(name_2)+' acc')if self.second_opt else '') + \\\n",
    "                  '{: ^11}|{: ^10}|'.format('Test loss', 'Test acc'))\n",
    "\n",
    "        print('|{: ^8}|{: ^9.4f}|'.format(epoch, time_spent) + \\\n",
    "              '{: ^17.4f}|{: ^16.4%}|'.format(self.first_train['loss'], self.first_train['acc']) + \\\n",
    "              ('{: ^17.4f}|{: ^16.4%}|'.format(self.second_train['loss'], \n",
    "                                               self.second_train['acc'])if self.second_opt else '') + \\\n",
    "              '{: ^11.4f}|{: ^10.4%}|'.format(self.last_train['loss'], self.last_train['acc']))"
   ]
  },
  {
   "cell_type": "code",
   "execution_count": 5,
   "id": "4c46e2b9",
   "metadata": {},
   "outputs": [],
   "source": [
    "LeNet = nn.Sequential(nn.Conv2d(in_channels=1, out_channels=6, kernel_size=5, padding=2),\n",
    "                      nn.Sigmoid(),\n",
    "                      nn.AvgPool2d(kernel_size=2, stride=2),\n",
    "                      nn.Conv2d(in_channels=6, out_channels=16, kernel_size=5),\n",
    "                      nn.Sigmoid(),\n",
    "                      nn.AvgPool2d(kernel_size=2, stride=2),\n",
    "                      nn.Flatten(),\n",
    "                      nn.Linear(in_features=5*5*16, out_features=120),\n",
    "                      nn.Sigmoid(),\n",
    "                      nn.Linear(in_features=120, out_features=84),\n",
    "                      nn.Sigmoid(),\n",
    "                      nn.Linear(in_features=84, out_features=10)\n",
    "                      )"
   ]
  },
  {
   "cell_type": "code",
   "execution_count": 6,
   "id": "0f796294",
   "metadata": {},
   "outputs": [],
   "source": [
    "def predict(image):\n",
    "    return LeNet(image).data[0].max(0)[1].item()"
   ]
  },
  {
   "cell_type": "markdown",
   "id": "6e534440",
   "metadata": {},
   "source": [
    "Выведем по несколько изображений из каждой выборки, а так же список классов:"
   ]
  },
  {
   "cell_type": "code",
   "execution_count": 7,
   "id": "078d9a95",
   "metadata": {},
   "outputs": [
    {
     "name": "stdout",
     "output_type": "stream",
     "text": [
      "Train data sample:\n"
     ]
    },
    {
     "data": {
      "image/png": "[encoded data removed]",
      "text/plain": [
       "<Figure size 1152x216 with 4 Axes>"
      ]
     },
     "metadata": {},
     "output_type": "display_data"
    },
    {
     "name": "stdout",
     "output_type": "stream",
     "text": [
      "Test data sample:\n"
     ]
    },
    {
     "data": {
      "image/png": "[encoded data removed]",
      "text/plain": [
       "<Figure size 1152x216 with 4 Axes>"
      ]
     },
     "metadata": {},
     "output_type": "display_data"
    },
    {
     "name": "stdout",
     "output_type": "stream",
     "text": [
      "Data classes:\n",
      "0 - zero\n",
      "1 - one\n",
      "2 - two\n",
      "3 - three\n",
      "4 - four\n",
      "5 - five\n",
      "6 - six\n",
      "7 - seven\n",
      "8 - eight\n",
      "9 - nine\n"
     ]
    }
   ],
   "source": [
    "transforms = tv.transforms.ToTensor()\n",
    "train = tv.datasets.MNIST('.', train=True, transform=transforms, download=True)\n",
    "test = tv.datasets.MNIST('.', train=False, transform=transforms, download=True)\n",
    "print('Train data sample:')\n",
    "peep(train, 1, 4)\n",
    "print('Test data sample:')\n",
    "peep(test, 1, 4)\n",
    "print('Data classes:\\n' + '\\n'.join(train.classes))"
   ]
  },
  {
   "cell_type": "markdown",
   "id": "63dfd952",
   "metadata": {},
   "source": [
    "Обучим модель на пяти эпохах, и проверим, как соотносятся её предсказания с реальным изображением:"
   ]
  },
  {
   "cell_type": "code",
   "execution_count": 8,
   "id": "dedfd636",
   "metadata": {
    "scrolled": true
   },
   "outputs": [
    {
     "name": "stdout",
     "output_type": "stream",
     "text": [
      "| Epochs |  Time   | Train Adam loss | Train Adam acc | Test loss | Test acc |\n",
      "|   0    | 45.7590 |     1.7534      |    39.9800%    |  0.7969   | 77.2117% |\n",
      "|   1    | 48.9620 |     0.5591      |    84.0950%    |  0.4392   | 86.9200% |\n",
      "|   2    | 46.1345 |     0.3486      |    89.6967%    |  0.3176   | 90.2900% |\n",
      "|   3    | 41.3818 |     0.2659      |    91.9533%    |  0.2521   | 92.1967% |\n",
      "|   4    | 49.9155 |     0.2169      |    93.4383%    |  0.2084   | 93.5383% |\n"
     ]
    }
   ],
   "source": [
    "NetPipeline(train, test, \n",
    "            model=LeNet, num_epochs=5, batch_size=30, \n",
    "            first_opt=O.Adam, lr1=3e-4).train_steps()"
   ]
  },
  {
   "cell_type": "code",
   "execution_count": 9,
   "id": "9d424a9f",
   "metadata": {},
   "outputs": [
    {
     "name": "stdout",
     "output_type": "stream",
     "text": [
      "Predicted class: 8\n"
     ]
    },
    {
     "data": {
      "image/png": "[encoded data removed]",
      "text/plain": [
       "<Figure size 432x288 with 1 Axes>"
      ]
     },
     "metadata": {},
     "output_type": "display_data"
    }
   ],
   "source": [
    "img = test[int(np.random.choice(len(test), 1))][0].unsqueeze(0)\n",
    "print('Predicted class:', predict(img))\n",
    "plt.imshow(img.squeeze(), cmap='Greys')\n",
    "plt.xticks([])\n",
    "plt.yticks([])\n",
    "plt.show()"
   ]
  },
  {
   "cell_type": "markdown",
   "id": "30dac050",
   "metadata": {},
   "source": [
    "Теперь перейдём к реализации adversarial attack. Я попробовал два разных способа, которые, впрочем, дали идентичные результаты.  \n"
   ]
  },
  {
   "cell_type": "markdown",
   "id": "35a387a5",
   "metadata": {},
   "source": [
    "**Первый вариант**  \n",
    "Берём случайню картинку и изменяем её так, чтобы она была максимально похожа на второй по вероятности класс. Затем из полученного изображения вычитаем оригинальную картинку, в результате остаются изменения, внесённые моделью. Выводим на экран сначала исходное изображение, затем фильтр (разницу между оригинальным и изменённым изображением), и оригинал с наложенным фильтром. Также, для каждого из этих изображений выводим предсказанный класс."
   ]
  },
  {
   "cell_type": "code",
   "execution_count": 10,
   "id": "c3c38ceb",
   "metadata": {},
   "outputs": [],
   "source": [
    "def inference_1(dataset, cnt, lr):\n",
    "    print('{: ^26}'.format('Raw image'),\n",
    "     ' '*13 + '{: ^23}'.format('Filter'),\n",
    "     ' '*14 + '{: ^23}'.format('New image'))\n",
    "    for _ in range(cnt):\n",
    "        img = dataset[int(np.random.choice(len(dataset), 1))][0].unsqueeze(0)\n",
    "        new_img = torch.tensor(img, requires_grad=True)\n",
    "        true_label = predict(img)\n",
    "        for _ in range(100):\n",
    "            out = LeNet(new_img)\n",
    "            # Заменяем вероятности правильного класса самым маленьким значением из всего out\n",
    "            out[0][true_label] = out.data[0].min(0)[0].item()\n",
    "            # Рассчитываем градиенты для наиболее вероятного класса из оставшихся. Таким образом,\n",
    "            # мы всегда будем подтягивать изображение ко второму по вероятности классу.\n",
    "            out[0][out.data[0].max(0)[1].item()].backward()\n",
    "            ngrad = new_img.grad\n",
    "            with torch.no_grad():\n",
    "                new_img += lr * ngrad\n",
    "            new_img.grad.zero_()\n",
    "\n",
    "        new_img = new_img.detach().cpu()\n",
    "        filter = (new_img - img.cpu()).clip(0)\n",
    "        images = [img, filter, img + filter]\n",
    "        titles = ['Predict: ' + str(predict(images[0])), \n",
    "                  'Predict: ' + str(predict(images[1])), \n",
    "                  'Predict: ' + str(predict(images[2]))]\n",
    "        fig = plt.figure(figsize=(16,3))\n",
    "        for i in range(3):\n",
    "            fig.add_subplot(1, 3, i+1)\n",
    "            plt.imshow(images[i].squeeze(), cmap='Greys')\n",
    "            plt.title(titles[i])\n",
    "            plt.xticks([])\n",
    "            plt.yticks([])\n",
    "            plt.tight_layout()\n",
    "        plt.show()"
   ]
  },
  {
   "cell_type": "code",
   "execution_count": 11,
   "id": "3a492b2c",
   "metadata": {
    "scrolled": false
   },
   "outputs": [
    {
     "name": "stdout",
     "output_type": "stream",
     "text": [
      "        Raw image                               Filter                               New image       \n"
     ]
    },
    {
     "data": {
      "image/png": "[encoded data removed]",
      "text/plain": [
       "<Figure size 1152x216 with 3 Axes>"
      ]
     },
     "metadata": {},
     "output_type": "display_data"
    },
    {
     "data": {
      "image/png": "[encoded data removed]",
      "text/plain": [
       "<Figure size 1152x216 with 3 Axes>"
      ]
     },
     "metadata": {},
     "output_type": "display_data"
    },
    {
     "data": {
      "image/png": "[encoded data removed]",
      "text/plain": [
       "<Figure size 1152x216 with 3 Axes>"
      ]
     },
     "metadata": {},
     "output_type": "display_data"
    },
    {
     "data": {
      "image/png": "[encoded data removed]",
      "text/plain": [
       "<Figure size 1152x216 with 3 Axes>"
      ]
     },
     "metadata": {},
     "output_type": "display_data"
    },
    {
     "data": {
      "image/png": "[encoded data removed]",
      "text/plain": [
       "<Figure size 1152x216 with 3 Axes>"
      ]
     },
     "metadata": {},
     "output_type": "display_data"
    }
   ],
   "source": [
    "inference_1(test, cnt=5, lr=.05)"
   ]
  },
  {
   "cell_type": "markdown",
   "id": "c4175257",
   "metadata": {},
   "source": [
    "**Второй вариант**  \n",
    "Сразу создаём пустой фильтр, который потом будем изменять. Предсказания модели делаем при наложенном фильтре, затем, как и в прошлый раз, фильтр подгоняем под второй по вероятности класс."
   ]
  },
  {
   "cell_type": "code",
   "execution_count": 12,
   "id": "241c3839",
   "metadata": {},
   "outputs": [],
   "source": [
    "def inference_2(dataset, cnt, lr):\n",
    "    print('{: ^26}'.format('Raw image'),\n",
    "     ' '*13 + '{: ^23}'.format('Filter'),\n",
    "     ' '*14 + '{: ^23}'.format('New image'))\n",
    "    preprocess = tv.transforms.ToTensor()\n",
    "    for _ in range(cnt):\n",
    "        img = dataset[int(np.random.choice(len(dataset), 1))][0].unsqueeze(0)\n",
    "        filter = preprocess(Image.fromarray(np.zeros([28,28],dtype=np.uint8))).unsqueeze(0)\n",
    "        filter = torch.tensor(filter, requires_grad=True)\n",
    "        true_label = predict(img)\n",
    "        for _ in range(100):\n",
    "            out = LeNet(img + filter)\n",
    "            # Заменяем вероятности правильного класса самым маленьким значением из всего out\n",
    "            out[0][true_label] = out.data[0].min(0)[0].item()\n",
    "            # Рассчитываем градиенты для наиболее вероятного класса из оставшихся. Таким образом,\n",
    "            # мы всегда будем подтягивать изображение ко второму по вероятности классу.\n",
    "            out[0][out.data[0].max(0)[1].item()].backward()\n",
    "            ngrad = filter.grad\n",
    "            with torch.no_grad():\n",
    "                filter += lr * ngrad\n",
    "            filter.grad.zero_()\n",
    "\n",
    "        filter = filter.detach().clip(0)\n",
    "        images = [img, filter, img + filter]\n",
    "        titles = ['Predict: ' + str(predict(images[0])), \n",
    "                  'Predict: ' + str(predict(images[1])), \n",
    "                  'Predict: ' + str(predict(images[2]))]\n",
    "        fig = plt.figure(figsize=(16,3))\n",
    "        for i in range(3):\n",
    "            fig.add_subplot(1, 3, i+1)\n",
    "            plt.imshow(images[i].squeeze(), cmap='Greys')\n",
    "            plt.title(titles[i])\n",
    "            plt.xticks([])\n",
    "            plt.yticks([])\n",
    "            plt.tight_layout()\n",
    "        plt.show()"
   ]
  },
  {
   "cell_type": "code",
   "execution_count": 13,
   "id": "0b0eb5c2",
   "metadata": {
    "scrolled": false
   },
   "outputs": [
    {
     "name": "stdout",
     "output_type": "stream",
     "text": [
      "        Raw image                               Filter                               New image       \n"
     ]
    },
    {
     "data": {
      "image/png": "[encoded data removed]",
      "text/plain": [
       "<Figure size 1152x216 with 3 Axes>"
      ]
     },
     "metadata": {},
     "output_type": "display_data"
    },
    {
     "data": {
      "image/png": "[encoded data removed]",
      "text/plain": [
       "<Figure size 1152x216 with 3 Axes>"
      ]
     },
     "metadata": {},
     "output_type": "display_data"
    },
    {
     "data": {
      "image/png": "[encoded data removed]",
      "text/plain": [
       "<Figure size 1152x216 with 3 Axes>"
      ]
     },
     "metadata": {},
     "output_type": "display_data"
    },
    {
     "data": {
      "image/png": "[encoded data removed]",
      "text/plain": [
       "<Figure size 1152x216 with 3 Axes>"
      ]
     },
     "metadata": {},
     "output_type": "display_data"
    },
    {
     "data": {
      "image/png": "[encoded data removed]",
      "text/plain": [
       "<Figure size 1152x216 with 3 Axes>"
      ]
     },
     "metadata": {},
     "output_type": "display_data"
    }
   ],
   "source": [
    "inference_2(test, 5, .05)"
   ]
  }
 ],
 "metadata": {
  "kernelspec": {
   "display_name": "Python 3",
   "language": "python",
   "name": "python3"
  },
  "language_info": {
   "codemirror_mode": {
    "name": "ipython",
    "version": 3
   },
   "file_extension": ".py",
   "mimetype": "text/x-python",
   "name": "python",
   "nbconvert_exporter": "python",
   "pygments_lexer": "ipython3",
   "version": "3.8.8"
  },
  "toc": {
   "base_numbering": 1,
   "nav_menu": {},
   "number_sections": true,
   "sideBar": true,
   "skip_h1_title": true,
   "title_cell": "Содержание",
   "title_sidebar": "Содержание",
   "toc_cell": false,
   "toc_position": {},
   "toc_section_display": true,
   "toc_window_display": false
  }
 },
 "nbformat": 4,
 "nbformat_minor": 5
}
